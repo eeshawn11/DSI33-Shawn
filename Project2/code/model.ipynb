{
 "cells": [
  {
   "cell_type": "markdown",
   "metadata": {},
   "source": [
    "# Contents\n",
    "- [Background (Separate Notebook)](clean.ipynb)\n",
    "- [Data Cleaning (Separate Notebook)](clean.ipynb)\n",
    "- [Exploratory Data Analysis (Separate Notebook)](clean.ipynb)\n",
    "- [Modelling](#modelling)\n",
    "- [Conclusion](#conclusion)\n",
    "\n",
    "Due to the complexity of the data and length of analysis required, the data cleaning and EDA process is split into a separate notebook as linked."
   ]
  },
  {
   "cell_type": "markdown",
   "metadata": {},
   "source": [
    "# Modelling\n",
    "---\n",
    "As we are trying to predict sale price, a continuous variable, We will be utilising three regression models: `Linear`, `Ridge` and `Lasso` models for this project.\n",
    "\n",
    "The Dummy Regressor with the mean saleprice value will serve as a simple baseline for comparison. However, to recap our problem statement, our target is to achieve `at least 80% accuracy` in predicting sale price of a property.\n",
    "\n",
    "Steps:\n",
    "1. Based on the features identified, we will prepare our features matrix (`X`) and target vector (`y`).\n",
    "1. We will use the `train-test-split` function to split our X and y variables into a training set and a holdout set. The holdout set will be used to test our model performance.\n",
    "1. As we have a mix of categorical and numerical features, we will utilise a `ColumnTransformer` together with `Pipelines` to transform the different features:\n",
    "    - We will utilise the `SimpleImputer` to replace NA values in categorical features and the `KNNImputer` to replace missing values in numerical features.\n",
    "    - We will utilise the `OrdinalEncoder` and `OneHotEncoder` to convert our ordinal and nominal features respectively.\n",
    "    - Since we are also using Lasso and Ridge models, we will scale our numerical features using `RobustScaler`.\n",
    "1. We will contain our `ColumnTransformer` and model within a pipeline. This also allows us to perform grid searching to optimise our model performance.\n",
    "1. Based on the performance with the training and holdout set, we will select the model with the lowest `RMSLE` score as our model.\n",
    "1. We will optimise our model using `GridSearchCV` and refit on the full X array to get our optimised model.\n",
    "1. We will use the optimised model to `predict` the target sale price from the test dataset."
   ]
  },
  {
   "cell_type": "code",
   "execution_count": 4,
   "metadata": {},
   "outputs": [],
   "source": [
    "# import required libraries\n",
    "import pandas as pd\n",
    "import numpy as np\n",
    "import matplotlib.pyplot as plt\n",
    "import seaborn as sns\n",
    "sns.set()\n",
    "\n",
    "# import required sklearn functions for preprocessing and modelling\n",
    "from sklearn.compose import ColumnTransformer\n",
    "from sklearn.preprocessing import OneHotEncoder, OrdinalEncoder, RobustScaler, MinMaxScaler\n",
    "from sklearn.impute import SimpleImputer, KNNImputer\n",
    "from sklearn.dummy import DummyRegressor\n",
    "from sklearn.linear_model import LinearRegression, Ridge, RidgeCV, Lasso, LassoCV\n",
    "from sklearn.pipeline import Pipeline\n",
    "from sklearn.model_selection import cross_val_score, train_test_split, GridSearchCV\n",
    "from sklearn.metrics import make_scorer, mean_squared_error\n",
    "\n",
    "import warnings\n",
    "warnings.filterwarnings('ignore') # hide warnings to avoid cluttering the notebook output"
   ]
  },
  {
   "cell_type": "code",
   "execution_count": 5,
   "metadata": {},
   "outputs": [],
   "source": [
    "# transfer functions from cleaning notebook\n",
    "def prep_data(dataframe):\n",
    "    # convert column names to snake_case\n",
    "    dataframe.columns = dataframe.columns.str.lower().str.replace(\" \", \"_\")  \n",
    "\n",
    "    # rename some columns for ease of interpretation\n",
    "    dataframe.rename(columns={\n",
    "        \"exterior_1st\": \"exterior\", \n",
    "        \"foundation\": \"foundation_pconc\"\n",
    "        }, inplace=True\n",
    "    )\n",
    "\n",
    "    # create new feature \"total_built_area\"\n",
    "    dataframe[\"total_built_area\"] = (\n",
    "        dataframe[\"garage_area\"]\n",
    "        + dataframe[\"open_porch_sf\"]\n",
    "        + dataframe[\"pool_area\"]\n",
    "        + dataframe[\"screen_porch\"]\n",
    "        + dataframe[\"3ssn_porch\"]\n",
    "        + dataframe[\"enclosed_porch\"]\n",
    "        + dataframe[\"wood_deck_sf\"]\n",
    "        + dataframe[\"gr_liv_area\"]\n",
    "    )\n",
    "\n",
    "    # create new feature \"baths\"\n",
    "    dataframe[\"baths\"] = (\n",
    "        dataframe[\"bsmt_full_bath\"]\n",
    "        + dataframe[\"bsmt_half_bath\"]\n",
    "        + dataframe[\"full_bath\"]\n",
    "        + dataframe[\"half_bath\"]\n",
    "    )\n",
    "    \n",
    "    # convert \"foundation\" to binary feature\n",
    "    dataframe[\"foundation_pconc\"] = np.where(dataframe[\"foundation_pconc\"] == \"PConc\", 1, 0)"
   ]
  },
  {
   "cell_type": "code",
   "execution_count": 6,
   "metadata": {},
   "outputs": [],
   "source": [
    "df = pd.read_csv(\"../datasets/train.csv\")\n",
    "\n",
    "# rename columns and engineer new required features\n",
    "prep_data(df)\n",
    "\n",
    "# drop 2 identified outliers from the train dataset\n",
    "df.drop([960, 1885], inplace=True)\n",
    "\n",
    "f_nominal = [\n",
    "    'exterior', # renamed from exterior_1st\n",
    "    'garage_type',\n",
    "    'house_style',\n",
    "    'mas_vnr_type',\n",
    "    ]\n",
    "\n",
    "f_ordinal = [\n",
    "    'fireplace_qu',\n",
    "    'garage_finish',\n",
    "    'overall_qual',\n",
    "    ]\n",
    "\n",
    "f_numeric = [\n",
    "    'baths',\n",
    "    'total_built_area',\n",
    "    'foundation_pconc' # renamed from foundation\n",
    "    ]\n",
    "\n",
    "features = f_nominal + f_ordinal + f_numeric\n"
   ]
  },
  {
   "cell_type": "code",
   "execution_count": 7,
   "metadata": {},
   "outputs": [
    {
     "name": "stdout",
     "output_type": "stream",
     "text": [
      "4 Nominal features: ['exterior', 'garage_type', 'house_style', 'mas_vnr_type']\n",
      "\n",
      "3 Ordinal features: ['fireplace_qu', 'garage_finish', 'overall_qual']\n",
      "\n",
      "3 Numeric features: ['baths', 'total_built_area', 'foundation_pconc']\n",
      "\n"
     ]
    }
   ],
   "source": [
    "# confirm features to utilise in our model\n",
    "print(f\"{len(f_nominal)} Nominal features: {f_nominal}\\n\")\n",
    "print(f\"{len(f_ordinal)} Ordinal features: {f_ordinal}\\n\")\n",
    "print(f\"{len(f_numeric)} Numeric features: {f_numeric}\\n\")"
   ]
  },
  {
   "cell_type": "markdown",
   "metadata": {},
   "source": [
    "## Prepare Features Matrix and Target Vector"
   ]
  },
  {
   "cell_type": "code",
   "execution_count": 8,
   "metadata": {},
   "outputs": [
    {
     "data": {
      "text/plain": [
       "(2049, 10)"
      ]
     },
     "execution_count": 8,
     "metadata": {},
     "output_type": "execute_result"
    }
   ],
   "source": [
    "X = df[features]\n",
    "# apply binary log to saleprice\n",
    "y = df[\"saleprice\"].map(np.log2)\n",
    "\n",
    "X.shape"
   ]
  },
  {
   "cell_type": "code",
   "execution_count": 9,
   "metadata": {},
   "outputs": [],
   "source": [
    "X_train, X_test, y_train, y_test = train_test_split(X, y, train_size=0.7, random_state=42)"
   ]
  },
  {
   "cell_type": "markdown",
   "metadata": {},
   "source": [
    "## Prepare Transformers\n",
    "---"
   ]
  },
  {
   "cell_type": "code",
   "execution_count": 10,
   "metadata": {},
   "outputs": [],
   "source": [
    "# define imputers\n",
    "si = SimpleImputer(strategy=\"constant\", fill_value=\"None\")\n",
    "knn = KNNImputer(n_neighbors=3, weights=\"uniform\")\n",
    "\n",
    "# define scalers\n",
    "rs = RobustScaler()\n",
    "mm = MinMaxScaler()"
   ]
  },
  {
   "cell_type": "code",
   "execution_count": 11,
   "metadata": {},
   "outputs": [],
   "source": [
    "# define encoders\n",
    "ohe = OneHotEncoder(drop=\"first\", sparse=False, handle_unknown=\"ignore\")\n",
    "\n",
    "# specified order for ordinal encoding in ascending order\n",
    "quality_cat = [\"None\", \"Po\", \"Fa\", \"TA\", \"Gd\", \"Ex\"]\n",
    "finish_cat = [\"None\", \"Unf\", \"RFn\", \"Fin\"]\n",
    "overall_cat = np.arange(1, 11)\n",
    "\n",
    "oe = OrdinalEncoder(\n",
    "    categories=[\n",
    "        quality_cat,  # fireplace_qu\n",
    "        finish_cat,  # garage_finish\n",
    "        overall_cat,  # overall_qual\n",
    "    ],\n",
    "    dtype=int,\n",
    "    handle_unknown=\"error\",\n",
    ")"
   ]
  },
  {
   "cell_type": "code",
   "execution_count": 12,
   "metadata": {},
   "outputs": [],
   "source": [
    "# set up pipelines for each feature type so they are transformed in sequence\n",
    "\n",
    "# replace missing values with \"None\", then perform OneHotEncoding\n",
    "nominal_pipe = Pipeline([('impute', si), ('encode', ohe)])\n",
    "# replace missing values with \"None\", perform OrdinalEncoding then scale\n",
    "ordinal_pipe = Pipeline([('impute', si), ('encode', oe), ('scale', rs)])\n",
    "# impute based on 5 nearest neighbours, then scale\n",
    "numeric_pipe = Pipeline([('impute', knn), ('scale', rs)]) "
   ]
  },
  {
   "cell_type": "code",
   "execution_count": 13,
   "metadata": {},
   "outputs": [],
   "source": [
    "# set up ColumnTransformer to handle different preprocessing methods for different feature types\n",
    "ct = ColumnTransformer(\n",
    "                    transformers=[\n",
    "                        ('nom', nominal_pipe, f_nominal),\n",
    "                        ('ord', ordinal_pipe, f_ordinal),\n",
    "                        ('num', numeric_pipe, f_numeric)\n",
    "                    ],\n",
    "                    remainder='drop',\n",
    "                    n_jobs=-1\n",
    "                    )"
   ]
  },
  {
   "cell_type": "markdown",
   "metadata": {},
   "source": [
    "## Model Prep: Instantiate our models\n",
    "---\n",
    "\n",
    "We'll be evaluating `Linear`, `Lasso` and `Ridge` Regression models, so we'll need to create instances of all three models. We will utilise LassoCV and RidgeCV to identify an optimal alpha value through cross validation for use in our final prediction model."
   ]
  },
  {
   "cell_type": "code",
   "execution_count": 14,
   "metadata": {},
   "outputs": [],
   "source": [
    "dr = DummyRegressor()\n",
    "\n",
    "lr = LinearRegression()\n",
    "\n",
    "# utilise LassoCV to find an optimal value for alpha\n",
    "lcv = LassoCV(n_alphas=300)\n",
    "\n",
    "# utilise RidgeCV to find an optimal value for alpha\n",
    "rcv = RidgeCV(alphas=np.linspace(.1, 50, 300))"
   ]
  },
  {
   "cell_type": "code",
   "execution_count": 15,
   "metadata": {},
   "outputs": [],
   "source": [
    "# utilise pipelines to process data before modelling and allow for hyperparameter tuning\n",
    "dummy_pipe = Pipeline([\n",
    "     (\"ct\", ct), (\"dummy\", dr)\n",
    "     ])\n",
    "\n",
    "lr_pipe = Pipeline([\n",
    "     (\"ct\", ct), (\"linear\", lr)\n",
    "     ])\n",
    "\n",
    "lasso_pipe = Pipeline([\n",
    "     (\"ct\", ct), (\"lasso\", lcv)\n",
    "     ])\n",
    "\n",
    "ridge_pipe = Pipeline([\n",
    "     (\"ct\", ct), (\"ridge\", rcv)\n",
    "     ])"
   ]
  },
  {
   "cell_type": "markdown",
   "metadata": {},
   "source": [
    "## Model Evaluation"
   ]
  },
  {
   "cell_type": "markdown",
   "metadata": {},
   "source": [
    "We will utilise the `cross_val_score` function within the sklearn library to perform 5 fold cross validation to check for generalisation performance, scored by Root Mean Squared Logarithmic Error (RMSLE), as our target variable has been log-transformed."
   ]
  },
  {
   "cell_type": "code",
   "execution_count": 16,
   "metadata": {},
   "outputs": [],
   "source": [
    "# prepare model scorer with root mean square logarithmic error (RMSLE)\n",
    "# scorer will return logarithmic error as our target variable has been log transformed\n",
    "rmse_scorer = make_scorer(mean_squared_error, squared=False)"
   ]
  },
  {
   "cell_type": "code",
   "execution_count": 17,
   "metadata": {},
   "outputs": [
    {
     "name": "stdout",
     "output_type": "stream",
     "text": [
      "Dummy Regression mean RMLSE score: 0.5896642565569099\n",
      "Percentage error: 50.48964877162769\n",
      "Dummy Regression mean R2 score: -0.0007119865619534593\n"
     ]
    }
   ],
   "source": [
    "# create baseline for comparison\n",
    "\n",
    "# RMSE\n",
    "dummy_rmse = cross_val_score(dummy_pipe, X_train, y_train, error_score=\"raise\", cv=5, scoring=rmse_scorer)\n",
    "print(f\"Dummy Regression mean RMLSE score: {dummy_rmse.mean()}\")\n",
    "print(f\"Percentage error: {(2 ** dummy_rmse.mean() - 1) * 100}\")\n",
    "\n",
    "# R2\n",
    "dummy_r2 = cross_val_score(dummy_pipe, X_train, y_train, error_score=\"raise\", cv=5)\n",
    "print(f\"Dummy Regression mean R2 score: {dummy_r2.mean()}\")"
   ]
  },
  {
   "cell_type": "code",
   "execution_count": 18,
   "metadata": {},
   "outputs": [
    {
     "name": "stdout",
     "output_type": "stream",
     "text": [
      "Linear Regression mean RMLSE score: 0.2352640769852626\n",
      "Percentage error: 17.71221829093306\n",
      "Linear Regression mean R2 score: 0.8395640823066094\n"
     ]
    }
   ],
   "source": [
    "# Generate the cross_val score for LR fitted to train data\n",
    "# RMSE\n",
    "lr_rmse = cross_val_score(lr_pipe, X_train, y_train, cv=5, scoring=rmse_scorer)\n",
    "print(f\"Linear Regression mean RMLSE score: {lr_rmse.mean()}\")\n",
    "print(f\"Percentage error: {(2 ** lr_rmse.mean() - 1) * 100}\")\n",
    "\n",
    "# R2\n",
    "lr_r2 = cross_val_score(lr_pipe, X_train, y_train, cv=5)\n",
    "print(f\"Linear Regression mean R2 score: {lr_r2.mean()}\")"
   ]
  },
  {
   "cell_type": "code",
   "execution_count": 19,
   "metadata": {},
   "outputs": [
    {
     "name": "stdout",
     "output_type": "stream",
     "text": [
      "Lasso Regression mean RMLSE score: 0.23164611399740012\n",
      "Percentage error: 17.417391679527473\n",
      "Linear Regression mean R2 score: 0.8444219535528582\n",
      "Optimal alpha: 0.0007969275754195895\n"
     ]
    }
   ],
   "source": [
    "# Generate the cross_val score for Lasso CV (i.e. with optimal alpha value) fitted to train data\n",
    "# RMSE\n",
    "lasso_rmse = cross_val_score(lasso_pipe, X_train, y_train, cv=5, scoring=rmse_scorer)\n",
    "print(f\"Lasso Regression mean RMLSE score: {lasso_rmse.mean()}\")\n",
    "print(f\"Percentage error: {(2 ** lasso_rmse.mean() - 1) * 100}\")\n",
    "\n",
    "# R2\n",
    "lasso_r2 = cross_val_score(lasso_pipe, X_train, y_train, cv=5)\n",
    "print(f\"Linear Regression mean R2 score: {lasso_r2.mean()}\")\n",
    "\n",
    "# alpha\n",
    "lasso_pipe.fit(X_train, y_train)\n",
    "lasso_alpha = lasso_pipe[-1].alpha_\n",
    "print(f\"Optimal alpha: {lasso_alpha}\")"
   ]
  },
  {
   "cell_type": "code",
   "execution_count": 20,
   "metadata": {},
   "outputs": [
    {
     "name": "stdout",
     "output_type": "stream",
     "text": [
      "Ridge Regression mean RMLSE score: 0.23259211467332447\n",
      "Percentage error: 17.49440958993911\n",
      "Linear Regression mean R2 score: 0.8430302219120718\n",
      "Optimal alpha: 3.1040133779264214\n"
     ]
    }
   ],
   "source": [
    "# Generate the cross_val score for Ridge CV (i.e. with optimal alpha value) fitted to train data\n",
    "# RMSE\n",
    "ridge_rmse = cross_val_score(ridge_pipe, X_train, y_train, cv=5, scoring=rmse_scorer)\n",
    "print(f\"Ridge Regression mean RMLSE score: {ridge_rmse.mean()}\")\n",
    "print(f\"Percentage error: {(2 ** ridge_rmse.mean() - 1) * 100}\")\n",
    "\n",
    "# R2\n",
    "ridge_r2 = cross_val_score(ridge_pipe, X_train, y_train, cv=5)\n",
    "print(f\"Linear Regression mean R2 score: {ridge_r2.mean()}\")\n",
    "\n",
    "# alpha\n",
    "ridge_pipe.fit(X_train, y_train)\n",
    "ridge_alpha = ridge_pipe[-1].alpha_\n",
    "print(f\"Optimal alpha: {ridge_alpha}\")"
   ]
  },
  {
   "cell_type": "markdown",
   "metadata": {},
   "source": [
    "### Check Coefficients\n",
    "---\n",
    "The coefficients from the Lasso Model provides an insight into features that may not be very useful in our predictions and are hence zero-ed out by the model. At the same time, we can identify which features have a higher impact on our predictions based on the magnitude of the coefficients."
   ]
  },
  {
   "cell_type": "code",
   "execution_count": 45,
   "metadata": {},
   "outputs": [],
   "source": [
    "# create a function for combining feature names and regression model coefficients\n",
    "def find_coef(pipeline):\n",
    "    # identifying the feature names\n",
    "    nom_headers = list(pipeline[0].transformers_[0][1][1].get_feature_names_out(f_nominal))\n",
    "    ord_headers = f_ordinal\n",
    "    num_headers = f_numeric\n",
    "    headers = nom_headers + ord_headers + num_headers\n",
    "    # extracting the coef from the model\n",
    "    values = pipeline[1].coef_\n",
    "    # combine into a dataframe\n",
    "    cdf = pd.DataFrame(index=headers, data=values, columns=[\"coef\"])\n",
    "    cdf['inverse'] = cdf['coef'].apply(lambda x: (((2 ** x) - 1) * 100))\n",
    "    cdf[\"abs\"] = cdf['inverse'].map(abs)\n",
    "    cdf_filtered = cdf[cdf[\"abs\"] != 0].sort_values(by=\"abs\", ascending=False)\n",
    "    colors = [\"royalblue\" if val > 0 else \"indianred\" for val in cdf_filtered[\"inverse\"]]\n",
    "    \n",
    "    # plot coefficients into a chart\n",
    "    plt.figure(figsize=(10, 8))\n",
    "    sns.barplot(data=cdf_filtered, y=cdf_filtered.index, x=cdf_filtered['inverse'], palette=colors, order=cdf_filtered.index);\n",
    "    plt.title(f\"Coefficients of Lasso Regression (Alpha: {lasso_alpha:.5f})\", fontsize=20)\n",
    "    plt.ylabel(\"Features\", fontsize=15)\n",
    "    plt.xlabel(\"Coefficients (% Change)\", fontsize=15)\n",
    "\n",
    "    return cdf"
   ]
  },
  {
   "cell_type": "code",
   "execution_count": 46,
   "metadata": {},
   "outputs": [
    {
     "data": {
      "image/png": "[encoded data removed]",
      "text/plain": [
       "<Figure size 1000x800 with 1 Axes>"
      ]
     },
     "metadata": {},
     "output_type": "display_data"
    }
   ],
   "source": [
    "l_coef = find_coef(lasso_pipe)"
   ]
  },
  {
   "cell_type": "markdown",
   "metadata": {},
   "source": [
    "Based on the chart above, we see that the overall quality of the house contributes greatly to the saleprice of a property. In fact, a single grade difference in overall quality would contribute to an almost 25% change in sale price! This would definitely be a key factor that our agents must look out for when performing any appraisals.\n",
    "\n",
    "Some key insights:\n",
    "\n",
    "> **For home sellers**\n",
    "> - Fireplace quality, number of bathrooms and garage finish are features that owners could improve upon prior to sale so as to increase the potential sale price.\n",
    "> - For a single grade increase in fireplace quality, we would expect at least a 5% increase in sale price\n",
    "> - To maximise selling potential, agents can assess the current condition of the properties, obtain quotations from our partner contractors and present the cost-benefit analysis to our clients to determine if they would want to pay for upgrades prior to sale\n",
    "\n",
    "> **For home buyers**\n",
    "> - Overall quality of the house is a very important factor to assess when purchasing a home.\n",
    "> - Depending on the available budget of our clients, agents can identify whether a property is potentially under or overpriced, as well as identify if there are opportunities to negotiate a better deal based on certain features of the house (or lack thereof).\n",
    "> - For example, home owners on a tighter budget could consider properties without a garage, allowing them to potentially cut 5% off the price. "
   ]
  },
  {
   "cell_type": "code",
   "execution_count": 38,
   "metadata": {},
   "outputs": [
    {
     "name": "stdout",
     "output_type": "stream",
     "text": [
      "Percentage values zeroed out: 0.4166666666666667\n"
     ]
    },
    {
     "data": {
      "text/html": [
       "<div>\n",
       "<style scoped>\n",
       "    .dataframe tbody tr th:only-of-type {\n",
       "        vertical-align: middle;\n",
       "    }\n",
       "\n",
       "    .dataframe tbody tr th {\n",
       "        vertical-align: top;\n",
       "    }\n",
       "\n",
       "    .dataframe thead th {\n",
       "        text-align: right;\n",
       "    }\n",
       "</style>\n",
       "<table border=\"1\" class=\"dataframe\">\n",
       "  <thead>\n",
       "    <tr style=\"text-align: right;\">\n",
       "      <th></th>\n",
       "      <th>coef</th>\n",
       "      <th>inverse</th>\n",
       "      <th>abs</th>\n",
       "    </tr>\n",
       "  </thead>\n",
       "  <tbody>\n",
       "    <tr>\n",
       "      <th>exterior_AsphShn</th>\n",
       "      <td>0.0</td>\n",
       "      <td>0.0</td>\n",
       "      <td>0.0</td>\n",
       "    </tr>\n",
       "    <tr>\n",
       "      <th>exterior_BrkComm</th>\n",
       "      <td>-0.0</td>\n",
       "      <td>0.0</td>\n",
       "      <td>0.0</td>\n",
       "    </tr>\n",
       "    <tr>\n",
       "      <th>exterior_CBlock</th>\n",
       "      <td>-0.0</td>\n",
       "      <td>0.0</td>\n",
       "      <td>0.0</td>\n",
       "    </tr>\n",
       "    <tr>\n",
       "      <th>exterior_ImStucc</th>\n",
       "      <td>0.0</td>\n",
       "      <td>0.0</td>\n",
       "      <td>0.0</td>\n",
       "    </tr>\n",
       "    <tr>\n",
       "      <th>exterior_Stone</th>\n",
       "      <td>0.0</td>\n",
       "      <td>0.0</td>\n",
       "      <td>0.0</td>\n",
       "    </tr>\n",
       "    <tr>\n",
       "      <th>exterior_Stucco</th>\n",
       "      <td>-0.0</td>\n",
       "      <td>0.0</td>\n",
       "      <td>0.0</td>\n",
       "    </tr>\n",
       "    <tr>\n",
       "      <th>exterior_Wd Sdng</th>\n",
       "      <td>-0.0</td>\n",
       "      <td>0.0</td>\n",
       "      <td>0.0</td>\n",
       "    </tr>\n",
       "    <tr>\n",
       "      <th>exterior_WdShing</th>\n",
       "      <td>0.0</td>\n",
       "      <td>0.0</td>\n",
       "      <td>0.0</td>\n",
       "    </tr>\n",
       "    <tr>\n",
       "      <th>garage_type_Basment</th>\n",
       "      <td>-0.0</td>\n",
       "      <td>0.0</td>\n",
       "      <td>0.0</td>\n",
       "    </tr>\n",
       "    <tr>\n",
       "      <th>garage_type_CarPort</th>\n",
       "      <td>-0.0</td>\n",
       "      <td>0.0</td>\n",
       "      <td>0.0</td>\n",
       "    </tr>\n",
       "    <tr>\n",
       "      <th>garage_type_Detchd</th>\n",
       "      <td>0.0</td>\n",
       "      <td>0.0</td>\n",
       "      <td>0.0</td>\n",
       "    </tr>\n",
       "    <tr>\n",
       "      <th>house_style_1.5Unf</th>\n",
       "      <td>0.0</td>\n",
       "      <td>0.0</td>\n",
       "      <td>0.0</td>\n",
       "    </tr>\n",
       "    <tr>\n",
       "      <th>house_style_2.5Fin</th>\n",
       "      <td>-0.0</td>\n",
       "      <td>0.0</td>\n",
       "      <td>0.0</td>\n",
       "    </tr>\n",
       "    <tr>\n",
       "      <th>house_style_2.5Unf</th>\n",
       "      <td>-0.0</td>\n",
       "      <td>0.0</td>\n",
       "      <td>0.0</td>\n",
       "    </tr>\n",
       "    <tr>\n",
       "      <th>mas_vnr_type_None</th>\n",
       "      <td>-0.0</td>\n",
       "      <td>0.0</td>\n",
       "      <td>0.0</td>\n",
       "    </tr>\n",
       "  </tbody>\n",
       "</table>\n",
       "</div>"
      ],
      "text/plain": [
       "                     coef  inverse  abs\n",
       "exterior_AsphShn      0.0      0.0  0.0\n",
       "exterior_BrkComm     -0.0      0.0  0.0\n",
       "exterior_CBlock      -0.0      0.0  0.0\n",
       "exterior_ImStucc      0.0      0.0  0.0\n",
       "exterior_Stone        0.0      0.0  0.0\n",
       "exterior_Stucco      -0.0      0.0  0.0\n",
       "exterior_Wd Sdng     -0.0      0.0  0.0\n",
       "exterior_WdShing      0.0      0.0  0.0\n",
       "garage_type_Basment  -0.0      0.0  0.0\n",
       "garage_type_CarPort  -0.0      0.0  0.0\n",
       "garage_type_Detchd    0.0      0.0  0.0\n",
       "house_style_1.5Unf    0.0      0.0  0.0\n",
       "house_style_2.5Fin   -0.0      0.0  0.0\n",
       "house_style_2.5Unf   -0.0      0.0  0.0\n",
       "mas_vnr_type_None    -0.0      0.0  0.0"
      ]
     },
     "execution_count": 38,
     "metadata": {},
     "output_type": "execute_result"
    }
   ],
   "source": [
    "# percentage of variables zeroed out by Lasso\n",
    "print(f\"Percentage values zeroed out: {len(l_coef[l_coef['coef'] == 0]) / len(l_coef)}\")\n",
    "\n",
    "l_coef[(l_coef['inverse'] == 0)].sort_values(by=\"abs\")"
   ]
  },
  {
   "cell_type": "markdown",
   "metadata": {},
   "source": [
    "### Model Selection\n",
    "---\n",
    "Tabulating the results of our modelling:\n",
    "\n",
    "|Model|RMLSE Mean|Percentage Error|R2|\n",
    "|:---|---:|---:|---:|\n",
    "|Dummy|0.5897|50.49%|-0.0007|\n",
    "|Linear|0.2353|17.71%|0.8396|\n",
    "|**Lasso**|**0.2316**|**17.42%**|**0.8444**|\n",
    "|Ridge|0.2326|17.49%|0.0.8430|\n",
    "\n",
    "`Lasso` model has the lowest RMLSE based on our train data. This suggests that the model is most accurate in predicting the sale price with the lowest percentage difference from the actual price. For any prediction, the model may have an error of about 17%.\n",
    "\n",
    "Using the Lasso model, we will fit the model with our full train data and attempt to perform a prediction with an unseen test set provided by the agency."
   ]
  },
  {
   "cell_type": "code",
   "execution_count": 24,
   "metadata": {},
   "outputs": [],
   "source": [
    "lasso = Lasso(alpha=lasso_alpha)"
   ]
  },
  {
   "cell_type": "code",
   "execution_count": 25,
   "metadata": {},
   "outputs": [],
   "source": [
    "model = Pipeline([\n",
    "     (\"ct\", ct),\n",
    "     (\"model\", lasso)\n",
    "])"
   ]
  },
  {
   "cell_type": "code",
   "execution_count": 26,
   "metadata": {},
   "outputs": [],
   "source": [
    "model.fit(X, y);"
   ]
  },
  {
   "cell_type": "code",
   "execution_count": 27,
   "metadata": {},
   "outputs": [
    {
     "name": "stdout",
     "output_type": "stream",
     "text": [
      "X_train R2 score: 0.8507767309022647\n",
      "X_test R2 score: 0.8441305202690816\n",
      "X R2 score: 0.8489243140403369\n"
     ]
    }
   ],
   "source": [
    "print(f\"X_train R2 score: {model.score(X_train, y_train)}\")\n",
    "print(f\"X_test R2 score: {model.score(X_test, y_test)}\")\n",
    "print(f\"X R2 score: {model.score(X, y)}\")"
   ]
  },
  {
   "cell_type": "code",
   "execution_count": 28,
   "metadata": {},
   "outputs": [
    {
     "name": "stdout",
     "output_type": "stream",
     "text": [
      "RMSE: 27354.688973103344\n"
     ]
    }
   ],
   "source": [
    "model_preds = model.predict(X)\n",
    "\n",
    "# convert y and predictions back from log 2\n",
    "print(f\"RMSE: {mean_squared_error(2 ** y, 2 ** model_preds, squared=False)}\")"
   ]
  },
  {
   "cell_type": "markdown",
   "metadata": {},
   "source": [
    "The optimised model has a $R^2$ close to 1.0 with both the train (`0.85`) and holdout sets (`0.84`), with around 0.01 difference between the two sets. This suggests our model is not over or under fitted and will perform well with unseen data.\n",
    "\n",
    "Using this final model, we achieve a RMSE of 27354, suggesting that the model is accurate in predicting the sale price of a property within $27,354 of the actual price around 85% of the time."
   ]
  },
  {
   "cell_type": "markdown",
   "metadata": {},
   "source": [
    "### Model Optimisation\n",
    "---\n",
    "We will plot our predicted values against the actual saleprice to check our model accuracy."
   ]
  },
  {
   "cell_type": "code",
   "execution_count": 48,
   "metadata": {},
   "outputs": [
    {
     "data": {
      "image/png": "[encoded data removed]",
      "text/plain": [
       "<Figure size 640x480 with 1 Axes>"
      ]
     },
     "metadata": {},
     "output_type": "display_data"
    }
   ],
   "source": [
    "plt.scatter(x=df[\"saleprice\"], y=2 ** model_preds, color=\"royalblue\", label=\"Predictions vs Actual\")\n",
    "plt.plot([0,600000], [0,600000], color='red', label=\"Perfect Model\")\n",
    "plt.title(\"Plot of Predicted Values vs Actual Sale Price\", fontsize=15)\n",
    "plt.ylabel(\"Predicted Sale Price ($)\")\n",
    "plt.xlabel(\"Actual Sale Price ($)\")\n",
    "plt.legend(loc=\"lower right\", fontsize=10);"
   ]
  },
  {
   "cell_type": "markdown",
   "metadata": {},
   "source": [
    "Based on the plot above, we see that the model generally performs well and the predictions are centred around the \"perfect model\", represented by the red line. However, there are still some outliers in our predictions especially for the higher end properties, which suggests that there is still room for improvement."
   ]
  },
  {
   "cell_type": "code",
   "execution_count": 30,
   "metadata": {},
   "outputs": [],
   "source": [
    "# attempt to optimise the model\n",
    "parameters = {\n",
    "\t'ct__nom__encode__drop': (\"first\", None),\n",
    "\t'ct__num__impute__n_neighbors': (1, 3, 5, 7, 10),\n",
    "\t'ct__num__impute__weights': (\"uniform\", \"distance\"),\n",
    "\t'ct__num__scale' : (rs, mm)\n",
    "\t# 'ct__nom__si': (si, knn),\n",
    "\t# 'ct__ord__si': (si, knn)\n",
    "}"
   ]
  },
  {
   "cell_type": "code",
   "execution_count": 31,
   "metadata": {},
   "outputs": [],
   "source": [
    "grid = GridSearchCV(\n",
    "    estimator=model,\n",
    "    param_grid=parameters,\n",
    "    cv=10,\n",
    "    error_score=\"raise\",\n",
    "    scoring=rmse_scorer,\n",
    "    n_jobs=-1,\n",
    "    verbose=1,\n",
    ")\n"
   ]
  },
  {
   "cell_type": "code",
   "execution_count": 32,
   "metadata": {},
   "outputs": [],
   "source": [
    "# grid.get_params().keys()"
   ]
  },
  {
   "cell_type": "code",
   "execution_count": 33,
   "metadata": {},
   "outputs": [
    {
     "name": "stdout",
     "output_type": "stream",
     "text": [
      "Fitting 10 folds for each of 40 candidates, totalling 400 fits\n"
     ]
    },
    {
     "data": {
      "text/plain": [
       "GridSearchCV(cv=10, error_score='raise',\n",
       "             estimator=Pipeline(steps=[('ct',\n",
       "                                        ColumnTransformer(n_jobs=-1,\n",
       "                                                          transformers=[('nom',\n",
       "                                                                         Pipeline(steps=[('impute',\n",
       "                                                                                          SimpleImputer(fill_value='None',\n",
       "                                                                                                        strategy='constant')),\n",
       "                                                                                         ('encode',\n",
       "                                                                                          OneHotEncoder(drop='first',\n",
       "                                                                                                        handle_unknown='ignore',\n",
       "                                                                                                        sparse=False))]),\n",
       "                                                                         ['exterior',\n",
       "                                                                          'garage_type',\n",
       "                                                                          'house_style',\n",
       "                                                                          'mas_vnr_type']),\n",
       "                                                                        ('ord',\n",
       "                                                                         Pipeline...\n",
       "                                                                          'total_built_area',\n",
       "                                                                          'foundation_pconc'])])),\n",
       "                                       ('model',\n",
       "                                        Lasso(alpha=0.0007969275754195895))]),\n",
       "             n_jobs=-1,\n",
       "             param_grid={'ct__nom__encode__drop': ('first', None),\n",
       "                         'ct__num__impute__n_neighbors': (1, 3, 5, 7, 10),\n",
       "                         'ct__num__impute__weights': ('uniform', 'distance'),\n",
       "                         'ct__num__scale': (RobustScaler(), MinMaxScaler())},\n",
       "             scoring=make_scorer(mean_squared_error, squared=False), verbose=1)"
      ]
     },
     "execution_count": 33,
     "metadata": {},
     "output_type": "execute_result"
    }
   ],
   "source": [
    "grid.fit(X, y)"
   ]
  },
  {
   "cell_type": "code",
   "execution_count": 34,
   "metadata": {},
   "outputs": [
    {
     "data": {
      "text/plain": [
       "{'ct__nom__encode__drop': 'first',\n",
       " 'ct__num__impute__n_neighbors': 1,\n",
       " 'ct__num__impute__weights': 'uniform',\n",
       " 'ct__num__scale': MinMaxScaler()}"
      ]
     },
     "execution_count": 34,
     "metadata": {},
     "output_type": "execute_result"
    }
   ],
   "source": [
    "grid.best_params_"
   ]
  },
  {
   "cell_type": "code",
   "execution_count": 35,
   "metadata": {},
   "outputs": [
    {
     "data": {
      "text/plain": [
       "0.2305781305769136"
      ]
     },
     "execution_count": 35,
     "metadata": {},
     "output_type": "execute_result"
    }
   ],
   "source": [
    "grid.best_score_"
   ]
  },
  {
   "cell_type": "markdown",
   "metadata": {},
   "source": [
    "## Prediction\n",
    "---\n",
    "As a final evaluation of our model, we will perform a set of predictions on an unseen set of data provided by the agency. This set of test data is extracted from the same time period, but withheld from the model.\n",
    "\n",
    "Once the predictions have been made, we will submit the predictions into an online portal \"Kaggle\", which will compare the predictions against the actual sale price and return us our RMSE performance."
   ]
  },
  {
   "cell_type": "code",
   "execution_count": 36,
   "metadata": {},
   "outputs": [],
   "source": [
    "test_set = pd.read_csv(\"../datasets/test.csv\")\n",
    "prep_data(test_set)"
   ]
  },
  {
   "cell_type": "code",
   "execution_count": 37,
   "metadata": {},
   "outputs": [],
   "source": [
    "# reverse binary log\n",
    "results = 2 ** model.predict(test_set)\n",
    "\n",
    "# combine the predictions with the id column of the test data, then export to csv\n",
    "results_df = test_set[[\"id\"]].merge(\n",
    "    pd.DataFrame(results), left_index=True, right_index=True\n",
    ")\n",
    "results_df.to_csv(\"../predictions.csv\", header=[\"Id\", \"SalePrice\"], index=False)"
   ]
  },
  {
   "cell_type": "markdown",
   "metadata": {},
   "source": [
    "Based on the Kaggle dashboard, the model has performed reasonably well and our predictions are within the range of around $25,000 - $27,000 from the actual sale price.\n",
    "\n",
    "![Kaggle Score](../images/prediction_score.png)"
   ]
  },
  {
   "cell_type": "markdown",
   "metadata": {},
   "source": [
    "# Conclusion\n",
    "---\n"
   ]
  },
  {
   "cell_type": "markdown",
   "metadata": {},
   "source": [
    "## Recommendations\n",
    "Due to limitations with time and resources, we have committed to an initial proof of concept with our prediction model based on available data. However, there are some future work that would be required to maximise the full potential of our model's predictive abilities.\n",
    "\n",
    "- **Retrain the model with newer datasets once available.**<br>\n",
    "Due to the limitations with the currently available data, the prediction model is trained on a set of outdated information from 2006 - 2010. There would likely have various changes that have happened since, for example the availability of new building raw materials or building techniques, or maybe even demographic changes that affect the demand for housing types.<br><br>\n",
    "As the remaining transactions are being digitalised, we can load the data into our model progressively and also start to identify if there may have been any trends over the years. Once all the data is complete, we can perform a final analysis and confirm the performance of our prediction model based on up-to-date information.\n",
    "\n",
    "- **Further research into price difference between neighbourhoods**<br>\n",
    "From our analysis, we identified that there may be missing information in our data that is unable to account for the price difference between the various neighbourhoods. While it may be common knowledge among real estate agents that properties in certain areas fetch higher prices, we will want to dive deeper into the underlying reasons in order to be able to accurately predict the expected sale price.<br><br>\n",
    "If time and resources allow, we can commission a more detailed study on the respective neighbourhoods in Ames to identify if there are any other reasons that contribute to their housing sale prices.\n",
    "\n",
    "- **Development of real-time prediction tool accessible via mobile app**<br>\n",
    "Concurrent to the above steps, the agency can also consider engaging a software development team to build a mobile app that our agents can have access to while on the go. This would allow them to perform real-time grading and price predictions for clients once the prediction model has been refined with up-to-date data.<br><br>\n",
    "As the agency seeks to expand to other cities and states in the US, the model can also be trained using data from other cities to likewise perform predictions for real estate agents stationed in those areas."
   ]
  }
 ],
 "metadata": {
  "kernelspec": {
   "display_name": "Python 3 (ipykernel)",
   "language": "python",
   "name": "python3"
  },
  "language_info": {
   "codemirror_mode": {
    "name": "ipython",
    "version": 3
   },
   "file_extension": ".py",
   "mimetype": "text/x-python",
   "name": "python",
   "nbconvert_exporter": "python",
   "pygments_lexer": "ipython3",
   "version": "3.9.13"
  },
  "vscode": {
   "interpreter": {
    "hash": "1b28ad9899eefd279686690bace4d41fa3fa7d0cff5719534f58e9a7031f3ffc"
   }
  }
 },
 "nbformat": 4,
 "nbformat_minor": 2
}
