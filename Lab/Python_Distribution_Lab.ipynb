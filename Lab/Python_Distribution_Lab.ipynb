{
 "cells": [
  {
   "cell_type": "markdown",
   "metadata": {},
   "source": [
    "# \"Fun with Loot Boxes\" Lab\n",
    "\n",
    "> Author: Caroline Schmitt, Matt Brems\n",
    "\n",
    "### Scenario:\n",
    "\n",
    "You're an analyst for [Zynga](https://en.wikipedia.org/wiki/Zynga), a gaming studio working on an event for an MMO (massively multiplayer online) game. This event is going to include **loot boxes**.\n",
    "\n",
    "<img src=\"https://vignette.wikia.nocookie.net/2007scape/images/0/06/Culinaromancer%27s_chest.png/revision/latest?cb=20180403231423\" alt=\"drawing\" width=\"150\"/> \n",
    "\n",
    "A loot box is basically a treasure chest in a game. This loot box can be opened to reveal a variety of items: some items are very rare and valuable, other items are common and less valuable. (You may consult [the esteemed Wikipedia](https://en.wikipedia.org/wiki/Loot_box) for a more extensive definition.)\n",
    "\n",
    "In our specific game, suppose that loot boxes can be obtained in one of two ways: \n",
    "- After every three hours of playing the game, a user will earn one loot box.\n",
    "- If the user wishes to purchase a loot box, they may pay $1 (in real money!) for a loot box.\n",
    "\n",
    "These loot boxes are very good for our business!\n",
    "- If a player earns a loot box, it means they are spending lots of time on the game. This often leads to advertisement revenue, they may tell their friends to join the game, etc.\n",
    "- If the player purchases a loot box, it means we've earned $1 from our customer.\n",
    "\n",
    "Suppose each loot box is opened to reveal either:\n",
    "- magical elixir (super rare, very valuable), or\n",
    "- nothing.\n",
    "\n",
    "Whether each loot box contains the elixir or nothing is **random**. Our boss wants some guidance on what sort of randomness to use on these loot boxes! \n",
    "- If the magical elixir is too rare, then users may not be motivated to try to get them, because they believe they'll never find the magical elixir.\n",
    "- If the magical elixir is too common, then users may not be motivated to try to get them, because the game has so much of the magical elixir that it isn't worthwhile to try to get it.\n",
    "\n",
    "However, our boss isn't a math-y type person! When explaining things to our boss, we need to explain the impact of our choices on the game as concretely as possible.\n",
    "\n",
    "### Version 1\n",
    "In our first version of the game, we'll say that loot boxes contain magical elixir 15% of the time and nothing 85% of the time.\n",
    "\n",
    "#### 1. Our boss asks, \"If a user buys 100 loot boxes, how many elixirs will they get?\" How would you respond?"
   ]
  },
  {
   "cell_type": "markdown",
   "metadata": {},
   "source": [
    "The user would expect to receive 15 elixirs on average."
   ]
  },
  {
   "cell_type": "markdown",
   "metadata": {},
   "source": [
    "#### 2. Our boss asks, \"How many loot boxes does someone have to purchase in order to definitely get elixir?\" How would you respond?"
   ]
  },
  {
   "cell_type": "markdown",
   "metadata": {},
   "source": [
    "**NOTE**: When your Jupyter notebook is open, double-click on this Markdown cell! You can delete this text and put your answer to the previous problem in here."
   ]
  },
  {
   "cell_type": "markdown",
   "metadata": {},
   "source": [
    "#### 3. Our boss asks, \"If a user earns 100 loot boxes, what is the chance that a user gets more than 20 elixirs?\" This is a bit more complicated, so let's break it down before answering."
   ]
  },
  {
   "cell_type": "markdown",
   "metadata": {},
   "source": [
    "#### 3a. Let's suppose my random variable $X$ counts up how many elixirs I observe out of my 100 loot boxes. Why is $X$ a discrete random variable?"
   ]
  },
  {
   "cell_type": "markdown",
   "metadata": {},
   "source": [
    "There are a countable number of outcomes, between 0 to 100."
   ]
  },
  {
   "cell_type": "markdown",
   "metadata": {},
   "source": [
    "#### 3b. Recall our discrete distributions: discrete uniform, Bernoulli, binomial, Poisson. Let's suppose my random variable $X$ counts up how many elixirs I observe out of my 100 loot boxes. What distribution is best suited for $X$? Why?\n",
    "- Hint: It may help to consider getting the magical elixir a \"success\" and getting nothing a \"failure.\" "
   ]
  },
  {
   "cell_type": "markdown",
   "metadata": {},
   "source": [
    "Binomial distribution for X"
   ]
  },
  {
   "cell_type": "markdown",
   "metadata": {},
   "source": [
    "#### 3c. Our boss asks, \"If a user earns 100 loot boxes, what is the chance that a user gets more than 20 elixirs?\" Use the probability mass function to answer the boss' question."
   ]
  },
  {
   "cell_type": "code",
   "execution_count": 6,
   "metadata": {},
   "outputs": [
    {
     "name": "stdout",
     "output_type": "stream",
     "text": [
      "The chance would be 6.63198% to get more than 20 elixirs out of 100 boxes.\n"
     ]
    }
   ],
   "source": [
    "# Show your work; leave your answer in a comment.\n",
    "import scipy.stats as stats\n",
    "import matplotlib.pyplot as plt\n",
    "\n",
    "p_elixir = 0.15\n",
    "boxes = 100\n",
    "\n",
    "elixirs = stats.binom(boxes, p_elixir)\n",
    "\n",
    "# sum up the probability getting x number of boxes using pmf, i.e. 21, 22, 23 ... 100.\n",
    "total_p = sum([elixirs.pmf(x) for x in range(21, 101)])\n",
    "print(f\"The chance would be {total_p * 100 :.5f}% to get more than 20 elixirs out of 100 boxes.\")\n",
    "\n",
    "# 6.63198%\n",
    "\n",
    "# x_elixirs = list(range(0,100))\n",
    "# plt.step(x_elixirs, elixirs.pmf(x_elixirs))\n",
    "    "
   ]
  },
  {
   "cell_type": "markdown",
   "metadata": {},
   "source": [
    "#### 3d. Our boss asks, \"If a user earns 100 loot boxes, what is the chance that a user gets more than 20 elixirs?\" Use the cumulative distribution function to answer the boss' question."
   ]
  },
  {
   "cell_type": "code",
   "execution_count": 7,
   "metadata": {},
   "outputs": [
    {
     "name": "stdout",
     "output_type": "stream",
     "text": [
      "6.631976581888166\n"
     ]
    }
   ],
   "source": [
    "# Show your work; leave your answer in a comment.\n",
    "\n",
    "p_20 = elixirs.cdf(20)\n",
    "p_more_than_20 = 1 - p_20\n",
    "\n",
    "print(p_more_than_20 * 100)\n",
    "\n",
    "# 6.631976581888166%"
   ]
  },
  {
   "cell_type": "markdown",
   "metadata": {},
   "source": [
    "#### 3e. Our boss asks, \"If a user earns 100 loot boxes, what is the chance that a user gets more than 20 elixirs?\" Answer your boss' question. *Remember that your boss is not a math-y person!*"
   ]
  },
  {
   "cell_type": "code",
   "execution_count": 8,
   "metadata": {},
   "outputs": [],
   "source": [
    "# There will be a a "
   ]
  },
  {
   "cell_type": "markdown",
   "metadata": {},
   "source": [
    "#### 4. Your boss wants to know how many people purchased how many loot boxes last month. \n",
    "> For example, last month, 70% of users did not purchase any loot boxes. 10% of people purchased one loot box. 5% of people purchased two loot boxes... and so on.\n",
    "\n",
    "#### 4a. Recall our discrete distributions: discrete uniform, Bernoulli, binomial, Poisson. Let's suppose my random variable $Y$ counts up how many loot boxes each person purchased through the game last month. What distribution is best suited for $Y$? Why?"
   ]
  },
  {
   "cell_type": "markdown",
   "metadata": {},
   "source": [
    "A Poisson distribution may be best suited for Y.\n",
    "\n",
    "Discrete uniform is not relevant since the probability of purchasing 0, 1 and 2 loot boxes are not equal.\n",
    "Bernoulli only evaluates one single trial, which is not the case in our situation.\n",
    "Likewise, binomial measures a fixed n number of trials, which is also not the case.\n",
    "Poisson would be the most suitable since there is no fixed number of trials, but a fixed time frame of 1 month."
   ]
  },
  {
   "cell_type": "markdown",
   "metadata": {},
   "source": [
    "#### 4b. Suppose that, on average, your customers purchased 2.7 loot boxes last month. In order for your revenue to be at least $500,000, at least how many users would you need on your platform? (Round your answer up to the nearest thousand.) "
   ]
  },
  {
   "cell_type": "code",
   "execution_count": 9,
   "metadata": {},
   "outputs": [
    {
     "name": "stdout",
     "output_type": "stream",
     "text": [
      "185185.18518518517\n"
     ]
    }
   ],
   "source": [
    "# Show your work; leave your answer in a comment.\n",
    "revenue = 500_000\n",
    "avg_purchase = 2.7\n",
    "box_price = 1\n",
    "\n",
    "users_required = revenue / (avg_purchase * box_price)\n",
    "print(users_required)\n",
    "# rounded up to nearest thousand = 186000\n"
   ]
  },
  {
   "cell_type": "markdown",
   "metadata": {},
   "source": [
    "#### 4c. Assume that your platform has the numer of users you mentioned in your last answer. Suppose that your platform calls anyone who purchases 5 or more loot boxes in a month a \"high value user.\" How much money do you expect to have earned from \"high value users?\" How about \"low value users?\""
   ]
  },
  {
   "cell_type": "code",
   "execution_count": 10,
   "metadata": {},
   "outputs": [
    {
     "name": "stdout",
     "output_type": "stream",
     "text": [
      "We would expect to earn a total of $358,617.09 from all low value users\n",
      "We would expect to earn a total of $143,582.91 from all high value users\n",
      "\n",
      "12500 users purchased 0 boxes last month, spending $0.00 in total.\n",
      "33751 users purchased 1 boxes last month, spending $33,750.61 in total.\n",
      "45563 users purchased 2 boxes last month, spending $91,126.64 in total.\n",
      "41007 users purchased 3 boxes last month, spending $123,020.97 in total.\n",
      "27680 users purchased 4 boxes last month, spending $110,718.87 in total.\n",
      "148001 358614\n",
      "25499 143586\n"
     ]
    }
   ],
   "source": [
    "# Show your work; leave your answer in a comment.\n",
    "\n",
    "avg_purchase = 2.7\n",
    "total_users = 186000\n",
    "\n",
    "purchase_dist = stats.poisson(avg_purchase)\n",
    "high_value = sum([purchase_dist.pmf(i) * i * total_users for i in range(5, 100)])\n",
    "low_value = sum([purchase_dist.pmf(i) * i * total_users for i in range(0, 5)])\n",
    "\n",
    "print(f\"We would expect to earn a total of ${low_value:,.2f} from all low value users\")\n",
    "print(f\"We would expect to earn a total of ${high_value:,.2f} from all high value users\")\n",
    "print(\"\")\n",
    "\n",
    "for i in range(0, 5):\n",
    "    users = purchase_dist.pmf(i) * total_users\n",
    "    purchase = users * i\n",
    "    print(f\"{users:.0f} users purchased {i} boxes last month, spending ${purchase:,.2f} in total.\")\n",
    "\n",
    "lv_users = 33751 + 45563 + 41007 + 27680\n",
    "hv_users = total_users - lv_users - 12500\n",
    "lv_revenue = 33750 + 91126 + 123020 + 110718\n",
    "hv_revenue = 502200 - lv_revenue\n",
    "print(lv_users, lv_revenue)\n",
    "print(hv_users, hv_revenue)"
   ]
  },
  {
   "cell_type": "markdown",
   "metadata": {},
   "source": [
    "#### 4d. Suppose that you want to summarize how many people purchased how many loot boxes last month for your boss. Since your boss isn't math-y, what are 2-4 summary numbers you might use to summarize this for your boss? (Your answers will vary here - use your judgment!)"
   ]
  },
  {
   "cell_type": "markdown",
   "metadata": {},
   "source": [
    "- Among the 186,000 users last month, we sold total 502,200 loot boxes in total last month.\n",
    "- 12,500 of them did not purchase any loot boxes. There may be an opportunity to generate more revenue from this category.\n",
    "- The bulk of our users belong in the low value category. 148,000 users generated around $360,000 of revenue last month.\n",
    "- In comparison, we have 26,000 users in the high value category. These users generated $140,000 revenue last month.\n",
    "\n"
   ]
  },
  {
   "cell_type": "markdown",
   "metadata": {},
   "source": [
    "#### 5. Your boss asks \"How many loot boxes does it take before someone gets their first elixir?\" Using `np.random.choice`, simulate how many loot boxes it takes somone to get their first elixir. \n",
    "- Start an empty list.\n",
    "- Use control flow to have someone open loot boxes repeatedly.\n",
    "- Once they open a loot box containing an elixir, record the number of loot boxes it took in the empty list.\n",
    "- Repeat this process 100,000 times. \n",
    "\n",
    "This simulates how long it takes for someone to open a loot box containing elixir. Share the 5th, 25th, 50th, 75th, and 95th percentiles.\n",
    "\n",
    "> You may find [this documentation](https://docs.scipy.org/doc/numpy/reference/generated/numpy.random.choice.html)  and [this documentation](https://docs.scipy.org/doc/numpy/reference/generated/numpy.percentile.html) helpful."
   ]
  },
  {
   "cell_type": "code",
   "execution_count": 23,
   "metadata": {},
   "outputs": [],
   "source": [
    "import numpy as np\n",
    "\n",
    "success = []\n",
    "attempts = 100_000\n",
    "\n",
    "box_result = [\"success\", \"empty\"]\n",
    "p_box = [0.15, 0.85]\n",
    "\n",
    "for attempt in range(attempts):\n",
    "    box_count = 0 # set counter\n",
    "    while True: # create loop to run until success\n",
    "        open = np.random.choice(box_result, p = p_box) # open box\n",
    "        box_count += 1 # increment open count\n",
    "        if open == \"success\": \n",
    "            success.append(box_count)\n",
    "            break # breakout if success"
   ]
  },
  {
   "cell_type": "code",
   "execution_count": 45,
   "metadata": {},
   "outputs": [
    {
     "name": "stdout",
     "output_type": "stream",
     "text": [
      "[2, 4, 11, 5, 1, 10, 10, 19, 23, 9]\n"
     ]
    }
   ],
   "source": [
    "print(success[:10])"
   ]
  },
  {
   "cell_type": "code",
   "execution_count": 58,
   "metadata": {},
   "outputs": [
    {
     "name": "stdout",
     "output_type": "stream",
     "text": [
      "5% of users receive an elixir on their 1.0 box\n",
      "25% of users receive an elixir on their 2.0 box\n",
      "50% of users receive an elixir on their 5.0 box\n",
      "75% of users receive an elixir on their 9.0 box\n",
      "95% of users receive an elixir on their 19.0 box\n"
     ]
    },
    {
     "data": {
      "image/png": "[encoded data removed]",
      "text/plain": [
       "<Figure size 432x288 with 1 Axes>"
      ]
     },
     "metadata": {
      "needs_background": "light"
     },
     "output_type": "display_data"
    }
   ],
   "source": [
    "percent_5 = np.percentile(success, 5)\n",
    "percent_25 = np.percentile(success, 25)\n",
    "percent_50 = np.percentile(success, 50)\n",
    "percent_75 = np.percentile(success, 75)\n",
    "percent_95 = np.percentile(success, 95)\n",
    "\n",
    "print(f\"5% of users receive an elixir on their {percent_5} box\")\n",
    "print(f\"25% of users receive an elixir on their {percent_25} box\")\n",
    "print(f\"50% of users receive an elixir on their {percent_50} box\")\n",
    "print(f\"75% of users receive an elixir on their {percent_75} box\")\n",
    "print(f\"95% of users receive an elixir on their {percent_95} box\")\n"
   ]
  },
  {
   "cell_type": "markdown",
   "metadata": {},
   "source": [
    "**NOTE**: When your Jupyter notebook is open, double-click on this Markdown cell! You can delete this text and put your answer to the previous problem in here."
   ]
  },
  {
   "cell_type": "markdown",
   "metadata": {},
   "source": [
    "### Version 2\n",
    "\n",
    "After a substantial update to the game, suppose every loot box can be opened to reveal *one of four different* items:\n",
    "- magical elixir (occurs 1% of the time, most valuable)\n",
    "- golden pendant (occurs 9% of the time, valuable)\n",
    "- steel armor (occurs 30% of the time, semi-valuable)\n",
    "- bronze coin (occurs 60% of the time, least valuable)"
   ]
  },
  {
   "cell_type": "markdown",
   "metadata": {},
   "source": [
    "#### 6. Suppose you want repeat problem 5 above, but do that for the version 2 loot boxes so you can track how many loot boxes are needed to get each item? (e.g. You'd like to be able to say that on average it takes 10 trials to get a golden pendant, 3 trials to get steel armor, and so on.) What Python datatype is the best way to store this data? Why?"
   ]
  },
  {
   "cell_type": "markdown",
   "metadata": {},
   "source": [
    "A Python dictionary would be best suited to store this date. The item would be the key, while the number of tries would be the value.\n",
    "This would be easy to search and reference."
   ]
  },
  {
   "cell_type": "code",
   "execution_count": 56,
   "metadata": {},
   "outputs": [],
   "source": [
    "attempts2 = 10000\n",
    "\n",
    "box_2_result = [\"magical elixir\", \"golden pendant\", \"steel armor\", \"bronze coin\"]\n",
    "p_box_2 = [.01, .09, .3, .6]\n",
    "\n",
    "def box_opener(item):\n",
    "    if item in box_2_result:\n",
    "        success = []\n",
    "        for attempt in range(attempts2):\n",
    "            box_count = 0 # set counter\n",
    "            while True: # create loop to run until success\n",
    "                open = np.random.choice(box_2_result, p = p_box_2) # open box\n",
    "                box_count += 1 # increment open count\n",
    "                if open == item: \n",
    "                    success.append(box_count)\n",
    "                    break # breakout if success\n",
    "    else:\n",
    "        print(f\"Item '{item}' not found, please try again.\")\n",
    "    return success"
   ]
  },
  {
   "cell_type": "code",
   "execution_count": 57,
   "metadata": {},
   "outputs": [
    {
     "name": "stdout",
     "output_type": "stream",
     "text": [
      "100.3361\n",
      "11.0952\n",
      "3.3357\n",
      "1.6784\n"
     ]
    }
   ],
   "source": [
    "elixir_open = box_opener(\"magical elixir\")\n",
    "pendant_open = box_opener(\"golden pendant\")\n",
    "armor_open = box_opener(\"steel armor\")\n",
    "coin_open = box_opener(\"bronze coin\")\n",
    "\n",
    "print(np.mean(elixir_open))\n",
    "print(np.mean(pendant_open))\n",
    "print(np.mean(armor_open))\n",
    "print(np.mean(coin_open))"
   ]
  },
  {
   "cell_type": "markdown",
   "metadata": {},
   "source": [
    "#### 7. Suppose you and your boss want to measure whether \"Version 2\" is better than \"Version 1.\" What metrics do you think are important to measure? (Your answers will vary here - use your judgment!)"
   ]
  },
  {
   "cell_type": "markdown",
   "metadata": {},
   "source": [
    "- Measure whether there is more revenue generated by Version 2 of the loot box."
   ]
  }
 ],
 "metadata": {
  "kernelspec": {
   "display_name": "Python 3.9.12 ('base')",
   "language": "python",
   "name": "python3"
  },
  "language_info": {
   "codemirror_mode": {
    "name": "ipython",
    "version": 3
   },
   "file_extension": ".py",
   "mimetype": "text/x-python",
   "name": "python",
   "nbconvert_exporter": "python",
   "pygments_lexer": "ipython3",
   "version": "3.9.12"
  },
  "vscode": {
   "interpreter": {
    "hash": "33402c75485d41d261a0f5c3ff0132649a47c95593bcf592502dc5e461d5dac7"
   }
  }
 },
 "nbformat": 4,
 "nbformat_minor": 2
}
